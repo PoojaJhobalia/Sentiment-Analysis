{
  "nbformat": 4,
  "nbformat_minor": 0,
  "metadata": {
    "colab": {
      "provenance": []
    },
    "kernelspec": {
      "name": "python3",
      "display_name": "Python 3"
    },
    "language_info": {
      "name": "python"
    }
  },
  "cells": [
    {
      "cell_type": "markdown",
      "metadata": {
        "id": "jDeKCl_4D1Im"
      },
      "source": [
        "#Computing Sentiment Polarity and Subjectivity Scores Using TextBlob and NLTK\n",
        "This notebook demonstrates how to use TextBlob to get sentiment polarity and subjectivity scores, as well as how to use NLTK to get detailed sentiment polarity scores."
      ]
    },
    {
      "cell_type": "code",
      "metadata": {
        "id": "pBuvzsGW4tAL"
      },
      "source": [
        "#import libraries\n",
        "import matplotlib.pyplot as plt\n",
        "import nltk\n",
        "import numpy as np\n",
        "from nltk.sentiment.vader import SentimentIntensityAnalyzer\n",
        "from nltk.tokenize import sent_tokenize\n",
        "from textblob import TextBlob\n",
        "nltk.download('gutenberg') #needed to access the raw text of a book\n",
        "nltk.download('punkt') #needed to tokenize sentences\n",
        "nltk.download('vader_lexicon') #NLTK's vader tool relies on a sentiment lexicon!"
      ],
      "execution_count": null,
      "outputs": []
    },
    {
      "cell_type": "code",
      "metadata": {
        "id": "AnRcyfbk5Hf-"
      },
      "source": [
        "#define some test sentences\n",
        "sentences = []\n",
        "sentences.append('You look great today.')\n",
        "sentences.append('I like your new haircut.')\n",
        "sentences.append('Thanks for your help.')\n",
        "sentences.append('Your shoes are really dirty.')\n",
        "sentences.append('You are a terrible cook.')"
      ],
      "execution_count": null,
      "outputs": []
    },
    {
      "cell_type": "markdown",
      "metadata": {
        "id": "jV77U8k1BZtq"
      },
      "source": [
        "###Sentiment Polarity & Subjectivity Using TextBlob"
      ]
    },
    {
      "cell_type": "code",
      "metadata": {
        "id": "iNnpt4h28Or9"
      },
      "source": [
        "#define a few collections to hold polarity and subjectivity scores for each sentence\n",
        "polarities = []\n",
        "subjectivities = []\n",
        "\n",
        "#get polarity and subjectivity scores for each sentence\n",
        "for sentence in sentences:\n",
        "  #the str() function is used to ensure that the input value is a string\n",
        "  blob = TextBlob(str(sentence)) \n",
        "  #get polarity and subjectivity scores\n",
        "  polarity, subjectivity = blob.polarity, blob.subjectivity\n",
        "  print('sentence: \"{}\", polarity: {:.3f}, subjectivity: {:.3f}'.format(sentence, polarity, subjectivity))\n",
        "  polarities.append(polarity)\n",
        "  subjectivities.append(subjectivity)\n",
        "\n",
        "#calculate and display average polarity and subjectivity scores for all sentences\n",
        "print('average polarity: {:.3f}'.format(np.mean(polarities)))\n",
        "print('average subjectivity: {:.3f}'.format(np.mean(subjectivities)))"
      ],
      "execution_count": null,
      "outputs": []
    },
    {
      "cell_type": "markdown",
      "metadata": {
        "id": "E4DDNSj7CF0V"
      },
      "source": [
        "###Detailed Sentiment Polarity Using NLTK"
      ]
    },
    {
      "cell_type": "code",
      "metadata": {
        "id": "c5ZHxsk6AWLc"
      },
      "source": [
        "#define a sentiment analyzer object\n",
        "analyzer = SentimentIntensityAnalyzer()\n",
        "\n",
        "#get detailed polarity scores for each sentence\n",
        "for sentence in sentences:\n",
        "  #get polarity scores.\n",
        "  #the str() function is used to ensure that the input value is a string\n",
        "  scores = analyzer.polarity_scores(str(sentence))\n",
        "  print('sentence: \"{}\", negative: {:.3f}, neutral: {:.3f}, positive: {:.3f}, overall: {:.3f}'.format(\n",
        "      sentence, scores['neg'], scores['neu'], scores['pos'], scores['compound']))"
      ],
      "execution_count": null,
      "outputs": []
    },
    {
      "cell_type": "code",
      "source": [
        "#load the raw text of the book \"Alice's Adventures in Wonderland\" by Lewis Carroll into a string variable\n",
        "raw_text = nltk.corpus.gutenberg.raw('milton-paradise.txt')\n",
        "\n",
        "#remove any linefeed characters and replace them with spaces\n",
        "raw_text = raw_text.replace('\\n', ' ') #replace \\n linefeed characters\n",
        "raw_text = raw_text.replace('\\r', ' ') #replace \\r linefeed characters\n",
        "for _ in range(10): raw_text = raw_text.replace('  ', ' ') #replace double spaces with a single space\n",
        "\n",
        "#split the text into sentences\n",
        "sentences = sent_tokenize(raw_text) \n",
        "\n",
        "#show the first few sentences\n",
        "sentences[:10]"
      ],
      "metadata": {
        "id": "VcEgQ5LmL_kQ"
      },
      "execution_count": null,
      "outputs": []
    },
    {
      "cell_type": "code",
      "source": [
        "#get sentiment polarity scores for each sentence\n",
        "polarities = []\n",
        "for sentence in sentences: #for each sentence\n",
        "  blob = TextBlob(str(sentence)) \n",
        "  polarities.append(blob.polarity) #store the polarity for the current sentence"
      ],
      "metadata": {
        "id": "zjUufCDqQObd"
      },
      "execution_count": null,
      "outputs": []
    },
    {
      "cell_type": "code",
      "source": [
        "#plot the raw polarity scores\n",
        "plt.rcParams['figure.figsize'] = (14, 4)\n",
        "plt.plot(polarities)\n",
        "plt.title('Sentiment Polarity Over Time')\n",
        "plt.ylabel('Sentiment Polarity')\n",
        "plt.xlabel('Time (Sentence)')\n",
        "plt.show()"
      ],
      "metadata": {
        "id": "A9J9H8-CR5Nh"
      },
      "execution_count": null,
      "outputs": []
    },
    {
      "cell_type": "code",
      "source": [
        "#apply a smoothing window to the raw polarity scores\n",
        "smoothing_window = 10\n",
        "for i in range(len(polarities) - smoothing_window):\n",
        "  polarities[i] = np.mean(polarities[i:i + smoothing_window + 1])\n",
        "\n",
        "polarities = polarities[:-smoothing_window]"
      ],
      "metadata": {
        "id": "PX95kDaIT3hQ"
      },
      "execution_count": null,
      "outputs": []
    },
    {
      "cell_type": "code",
      "source": [
        "x = np.arange(0, len(polarities))\n",
        "polynomial_model = np.poly1d(np.polyfit(x, polarities, 5))"
      ],
      "metadata": {
        "id": "4o7ZOfxZLSfS"
      },
      "execution_count": null,
      "outputs": []
    },
    {
      "cell_type": "code",
      "source": [
        "#plot a polynomial fit line through the sentence polarities\n",
        "plt.plot(polarities, color='lightgray')\n",
        "plt.plot(x, polynomial_model(x), color='red', linestyle='dashed', linewidth=3)\n",
        "plt.title('Sentiment Polarity Over Time')\n",
        "plt.ylabel('Sentiment Polarity')\n",
        "plt.xlabel('Time (Sentence)')\n",
        "plt.show()"
      ],
      "metadata": {
        "id": "WFkj5kmoHh-T"
      },
      "execution_count": null,
      "outputs": []
    }
  ]
}